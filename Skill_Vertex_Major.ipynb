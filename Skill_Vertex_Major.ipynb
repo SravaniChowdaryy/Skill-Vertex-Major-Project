{
  "nbformat": 4,
  "nbformat_minor": 0,
  "metadata": {
    "colab": {
      "name": "Skill-Vertex-Major.ipynb",
      "private_outputs": true,
      "provenance": [],
      "include_colab_link": true
    },
    "kernelspec": {
      "name": "python3",
      "display_name": "Python 3"
    },
    "language_info": {
      "name": "python"
    }
  },
  "cells": [
    {
      "cell_type": "markdown",
      "metadata": {
        "id": "view-in-github",
        "colab_type": "text"
      },
      "source": [
        "<a href=\"https://colab.research.google.com/github/SravaniChowdaryy/Skill-Vertex-Major-Project/blob/main/Skill_Vertex_Major.ipynb\" target=\"_parent\"><img src=\"https://colab.research.google.com/assets/colab-badge.svg\" alt=\"Open In Colab\"/></a>"
      ]
    },
    {
      "cell_type": "code",
      "execution_count": null,
      "metadata": {
        "id": "7tzgKNBKnRoM"
      },
      "outputs": [],
      "source": [
        "#Import libraries\n",
        "import numpy as np\n",
        "import pandas as pd\n",
        "import seaborn as sns\n",
        "import matplotlib.pyplot as plt"
      ]
    },
    {
      "cell_type": "code",
      "source": [
        "# lets import warnings module\n",
        "import warnings\n",
        "warnings.filterwarnings('ignore')"
      ],
      "metadata": {
        "id": "4Wj6dlIIp-94"
      },
      "execution_count": null,
      "outputs": []
    },
    {
      "cell_type": "code",
      "source": [
        "#Loading dataset\n",
        "data=pd.read_csv(\"/content/train.csv\")"
      ],
      "metadata": {
        "id": "9SeEFBzfqH5A"
      },
      "execution_count": null,
      "outputs": []
    },
    {
      "cell_type": "code",
      "source": [
        "#Loads all columns and rows\n",
        "pd.set_option('display.max_columns',None)\n",
        "pd.set_option('display.max_rows',None)\n",
        "#Understanding the data\n",
        "data.head()"
      ],
      "metadata": {
        "id": "QeBy82SCqICn"
      },
      "execution_count": null,
      "outputs": []
    },
    {
      "cell_type": "code",
      "source": [
        "data.shape"
      ],
      "metadata": {
        "id": "k8lVjSy3qW1G"
      },
      "execution_count": null,
      "outputs": []
    },
    {
      "cell_type": "code",
      "source": [
        "data.describe()"
      ],
      "metadata": {
        "id": "g0jyM7hvqYEE"
      },
      "execution_count": null,
      "outputs": []
    },
    {
      "cell_type": "code",
      "source": [
        "data.info()"
      ],
      "metadata": {
        "id": "RdKkSsjiqbnR"
      },
      "execution_count": null,
      "outputs": []
    },
    {
      "cell_type": "code",
      "source": [
        "#Shows total number of uniques values \n",
        "data.nunique()"
      ],
      "metadata": {
        "id": "cARpeTLvqfMv"
      },
      "execution_count": null,
      "outputs": []
    },
    {
      "cell_type": "markdown",
      "source": [
        "# CLEANING THE DATA"
      ],
      "metadata": {
        "id": "GYYRfenzqnkp"
      }
    },
    {
      "cell_type": "code",
      "source": [
        "#Gives the sum of null values\n",
        "data.isnull().sum()"
      ],
      "metadata": {
        "id": "hui-F0d8qiY3"
      },
      "execution_count": null,
      "outputs": []
    },
    {
      "cell_type": "code",
      "source": [
        "#White spot in the figure represent presense of null values\n",
        "plt.figure(figsize=(25,25))\n",
        "sns.heatmap(data.isnull())"
      ],
      "metadata": {
        "id": "x0ygTSopqsLJ"
      },
      "execution_count": null,
      "outputs": []
    },
    {
      "cell_type": "code",
      "source": [
        "#Prints percentage of null values in particular variable or column\n",
        "#axis 0(zero)=gives rows\n",
        "null_var=data.isnull().sum()/data.shape[0]*100\n",
        "null_var"
      ],
      "metadata": {
        "id": "_d73Oa6Jqy5S"
      },
      "execution_count": null,
      "outputs": []
    },
    {
      "cell_type": "markdown",
      "source": [
        "# NUMERIC DATASET - DATA CLEANING AND PREPROCESSING"
      ],
      "metadata": {
        "id": "4rRz5IEiq86u"
      }
    },
    {
      "cell_type": "code",
      "source": [
        "#Gives the variables which has numeric datavalues in it\n",
        "data_num=data.select_dtypes(include=['int64','float64'])\n",
        "data_num.head()"
      ],
      "metadata": {
        "id": "_yX9BWFHq-6U"
      },
      "execution_count": null,
      "outputs": []
    },
    {
      "cell_type": "code",
      "source": [
        "#Checking presence of null values in numeric dataset\n",
        "#White spot in the figure represent presense of null values\n",
        "plt.figure(figsize=(15,9))\n",
        "sns.heatmap(data_num.isnull())"
      ],
      "metadata": {
        "id": "KJSOvT98rBux"
      },
      "execution_count": null,
      "outputs": []
    },
    {
      "cell_type": "code",
      "source": [
        "#Shows all the rows of numeric dataset which has mising value present in it\n",
        "data_num[data_num.isnull().any(axis=1)]"
      ],
      "metadata": {
        "id": "1g_sQw4mri28"
      },
      "execution_count": null,
      "outputs": []
    },
    {
      "cell_type": "code",
      "source": [
        "#Gives the percentage of missing values in numeric dataset\n",
        "missing_value_num_per=data_num.isnull().sum()/data_num.shape[0]*100\n",
        "\n",
        "# lets calculate the total missing values in the data\n",
        "data_num.isnull().sum()\n",
        "\n",
        "# lets store the above two values in a dataset called missing data\n",
        "missing_data = pd.concat([data_num.isnull().sum(), missing_value_num_per], axis=1, keys=['Total Missing Values', 'Percent %'])\n",
        "\n",
        "# lets check the head of the data\n",
        "missing_data"
      ],
      "metadata": {
        "id": "h4yiTtyetQX1"
      },
      "execution_count": null,
      "outputs": []
    },
    {
      "cell_type": "code",
      "source": [
        "#Gives the List of variable names which has null values present in it\n",
        "missing_num_var=[var for var in data_num.columns if data_num[var].isnull().sum()>0]\n",
        "missing_num_var"
      ],
      "metadata": {
        "id": "nDaFAnMjtay4"
      },
      "execution_count": null,
      "outputs": []
    },
    {
      "cell_type": "code",
      "source": [
        "#Prints the number of variables present in the List\n",
        "print(len(missing_num_var))"
      ],
      "metadata": {
        "id": "w-69FLNLtd78"
      },
      "execution_count": null,
      "outputs": []
    },
    {
      "cell_type": "code",
      "source": [
        "#Data Distribution of all numeric columns\n",
        "plt.figure(figsize=(15,5))\n",
        "sns.set()\n",
        "#enumerate function gives an item from list with its index\n",
        "for i,var in enumerate(missing_num_var):\n",
        "    #There are 1 columns so 1 multiplied to 1 is equal to 1\n",
        "    plt.subplot(1,1,i+1)\n",
        "    sns.distplot(data_num[var],bins=20,kde_kws={'linewidth':5,'color':'red'})\n",
        "    "
      ],
      "metadata": {
        "id": "WCOmFe2athhM"
      },
      "execution_count": null,
      "outputs": []
    },
    {
      "cell_type": "code",
      "source": [
        "#Filling missing values with mean\n",
        "data_num_mean=data_num.fillna(data_num.mean())\n",
        "data_num_mean.isnull().sum().sum()"
      ],
      "metadata": {
        "id": "-KG1YNLJtkWG"
      },
      "execution_count": null,
      "outputs": []
    },
    {
      "cell_type": "code",
      "source": [
        "import seaborn as sns\n",
        "#Data Distribution of all original numeric columns and new clean mean dataset\n",
        "plt.figure(figsize=(15,5))\n",
        "sns.set()\n",
        "#enumerate function gives an item from list with its index\n",
        "for i,var in enumerate(missing_num_var):\n",
        "    #There are 1 columns so 1 multiplied to 1 is equal to 1\n",
        "    plt.subplot(1,1,i+1)\n",
        "    sns.distplot(data_num[var],bins=20,kde_kws={'linewidth':8,'color':'red'},label=\"Original Num Value Dataset\")\n",
        "    sns.distplot(data_num_mean[var],bins=20,kde_kws={'linewidth':3,'color':'green'},label=\"New Clean Mean Dataset\")\n",
        "    plt.legend()"
      ],
      "metadata": {
        "id": "X5USO2hvtnpI"
      },
      "execution_count": null,
      "outputs": []
    },
    {
      "cell_type": "code",
      "source": [
        "#Filling missing values with median\n",
        "data_num_median=data_num.fillna(data_num.median())\n",
        "data_num_median.isnull().sum().sum()"
      ],
      "metadata": {
        "id": "jEgOenLBtrKP"
      },
      "execution_count": null,
      "outputs": []
    },
    {
      "cell_type": "code",
      "source": [
        "#Data Distribution of all original numeric columns and new clean mean datadet and new clean median dataset\n",
        "plt.figure(figsize=(25,15))\n",
        "sns.set()\n",
        "#enumerate function gives an item from list with its index\n",
        "for i,var in enumerate(missing_num_var):\n",
        "    #There are 1 columns so 1 multiplied to 1 is equal to 1\n",
        "    plt.subplot(1,1,i+1)\n",
        "    sns.distplot(data_num[var],bins=20,hist=False,kde_kws={'linewidth':8,'color':'red'},label=\"Original Num Value Dataset\")\n",
        "    sns.distplot(data_num_mean[var],bins=20,hist=False,kde_kws={'linewidth':5,'color':'green'},label=\"New Clean Mean Dataset\")\n",
        "    sns.distplot(data_num_median[var],bins=20,hist=False,kde_kws={'linewidth':3,'color':'black'},label=\"New Clean Median Dataset\")\n",
        "    plt.legend()"
      ],
      "metadata": {
        "id": "HwhVlY1Ctuj7"
      },
      "execution_count": null,
      "outputs": []
    },
    {
      "cell_type": "code",
      "source": [
        "#Checking presence of outlier in dataset using boxplot\n",
        "for i,var in enumerate(missing_num_var):\n",
        "    plt.figure(figsize=(10,10))\n",
        "    plt.subplot(3,1,1)\n",
        "    sns.boxplot(data_num[var])\n",
        "    plt.subplot(3,1,2)\n",
        "    sns.boxplot(data_num_mean[var])\n",
        "    plt.subplot(3,1,3)\n",
        "    sns.boxplot(data_num_median[var])"
      ],
      "metadata": {
        "id": "6-Cetvtytxla"
      },
      "execution_count": null,
      "outputs": []
    },
    {
      "cell_type": "code",
      "source": [
        "data_concat=pd.concat([data_num[missing_num_var],data_num_mean[missing_num_var],data_num_median[missing_num_var]],axis=1,keys=\n",
        "                ['Original','Mean','Median'])\n",
        "#Shows all Rows which has null values in it\n",
        "#axis=1 shows all rows \n",
        "data_concat[data_concat.isnull().any(axis=1)]"
      ],
      "metadata": {
        "id": "01oWsB6ut1sR"
      },
      "execution_count": null,
      "outputs": []
    },
    {
      "cell_type": "markdown",
      "source": [
        "# CATEGORICAL DATASET-DATA CLEANING AND PREPROCESSING"
      ],
      "metadata": {
        "id": "gpN1RxG4uEXu"
      }
    },
    {
      "cell_type": "code",
      "source": [
        "#Gives the variables which has categorical datavalues in it\n",
        "data_cat=data.select_dtypes(include=['object'])\n",
        "data_cat.head()"
      ],
      "metadata": {
        "id": "X_vJBFvruFOh"
      },
      "execution_count": null,
      "outputs": []
    },
    {
      "cell_type": "code",
      "source": [
        "#Gives missing percentage in categorical dataset\n",
        "missing_value_cat_per=data_cat.isnull().mean()*100\n",
        "missing_value_cat_per"
      ],
      "metadata": {
        "id": "GqzGYs13uH0n"
      },
      "execution_count": null,
      "outputs": []
    },
    {
      "cell_type": "code",
      "source": [
        "#Gives the names of variables which has missing values in it\n",
        "isnull_per=data_cat.isnull().mean()*100\n",
        "miss_vars=isnull_per[isnull_per>0].keys()\n",
        "miss_vars"
      ],
      "metadata": {
        "id": "ajn2lw-WuXk-"
      },
      "execution_count": null,
      "outputs": []
    },
    {
      "cell_type": "code",
      "source": [
        "#Fills the null values in education column by putting missing term\n",
        "data_cat['education'].fillna(\"missing\")"
      ],
      "metadata": {
        "id": "R9MIrQ92ubGj"
      },
      "execution_count": null,
      "outputs": []
    },
    {
      "cell_type": "code",
      "source": [
        "#Gives the mode value\n",
        "data_cat['education'].mode()"
      ],
      "metadata": {
        "id": "XwwduGttufe4"
      },
      "execution_count": null,
      "outputs": []
    },
    {
      "cell_type": "code",
      "source": [
        "#Gives counts\n",
        "data_cat['education'].value_counts()"
      ],
      "metadata": {
        "id": "A9ynybRXuotc"
      },
      "execution_count": null,
      "outputs": []
    },
    {
      "cell_type": "code",
      "source": [
        "#Fills the null values with mode value \n",
        "data_cat['education'].fillna(data_cat['education'].mode()[0])"
      ],
      "metadata": {
        "id": "_Hr514J2u8oE"
      },
      "execution_count": null,
      "outputs": []
    },
    {
      "cell_type": "code",
      "source": [
        "#Fills the null values with mode and gives the name of the mode\n",
        "for var in miss_vars:\n",
        "    data_cat[var].fillna(data_cat[var].mode()[0],inplace=True)\n",
        "    print(var,\"=\",data_cat[var].mode()[0])"
      ],
      "metadata": {
        "id": "wpSbFKPDu-Mi"
      },
      "execution_count": null,
      "outputs": []
    },
    {
      "cell_type": "code",
      "source": [
        "#Gives the count of null values\n",
        "data_cat.isnull().sum()"
      ],
      "metadata": {
        "id": "wJpAVK3WvEHu"
      },
      "execution_count": null,
      "outputs": []
    },
    {
      "cell_type": "code",
      "source": [
        "plt.figure(figsize=(16,9))\n",
        "for i,var in enumerate(miss_vars):\n",
        "    #There is only variable so 1 multiplied to 1 = 1\n",
        "    plt.subplot(1,1,i+1)\n",
        "    plt.hist(data_cat[var],label='Imput')\n",
        "    #Removes null values and plot the histogram \n",
        "    plt.hist(data[var].dropna(),label='Original')\n",
        "    #It shows label\n",
        "    plt.legend()"
      ],
      "metadata": {
        "id": "I5GyMqHGvFNw"
      },
      "execution_count": null,
      "outputs": []
    },
    {
      "cell_type": "code",
      "source": [
        "#Updates the original dataset with the new dataset\n",
        "data.update(data_cat)\n",
        "data.update(data_num_median)"
      ],
      "metadata": {
        "id": "D4vOu2wmvH0y"
      },
      "execution_count": null,
      "outputs": []
    },
    {
      "cell_type": "code",
      "source": [
        "#Checks whether the dataset is updated or not\n",
        "data.isnull().sum()"
      ],
      "metadata": {
        "id": "RhO6HCIhvLvB"
      },
      "execution_count": null,
      "outputs": []
    },
    {
      "cell_type": "markdown",
      "source": [
        "THERE IS NO NULL VALUE PRESENT IN THE DATASET"
      ],
      "metadata": {
        "id": "oArTrLdtvSQb"
      }
    },
    {
      "cell_type": "code",
      "source": [
        "#Label Encoding five categorical variables\n",
        "\n",
        "from sklearn.preprocessing import LabelEncoder\n",
        "le=LabelEncoder()\n",
        "data['education_enc']=le.fit_transform(data['education'])\n",
        "data['department_enc']=le.fit_transform(data['department'])\n",
        "data['region_enc']=le.fit_transform(data['region'])\n",
        "data['gender_enc']=le.fit_transform(data['gender'])\n",
        "data['recruitment_channel_enc']=le.fit_transform(data['recruitment_channel'])\n",
        "data.head()"
      ],
      "metadata": {
        "id": "0vK3itdNvO3M"
      },
      "execution_count": null,
      "outputs": []
    },
    {
      "cell_type": "markdown",
      "source": [
        " Does Older Employees getting more Promotion than Younger Employees?"
      ],
      "metadata": {
        "id": "eoSkuv9jvbJr"
      }
    },
    {
      "cell_type": "code",
      "source": [
        "plt.figure(figsize=(15,5))\n",
        "sns.lineplot(data['age'], data['is_promoted'], palette = 'winter')"
      ],
      "metadata": {
        "id": "_7uci7n_vVUv"
      },
      "execution_count": null,
      "outputs": []
    },
    {
      "cell_type": "markdown",
      "source": [
        "#What is the Probability to get Promoted, If an employeed has won an award?"
      ],
      "metadata": {
        "id": "_0oVJVxEvl1V"
      }
    },
    {
      "cell_type": "code",
      "source": [
        "plt.figure(figsize=(15,5))\n",
        "sns.lineplot(data['awards_won?'], data['is_promoted'], palette = 'winter')"
      ],
      "metadata": {
        "id": "J-nHLW1kvhPk"
      },
      "execution_count": null,
      "outputs": []
    },
    {
      "cell_type": "markdown",
      "source": [
        "#  What is the Average Training Score of those Employees who got Promotion?"
      ],
      "metadata": {
        "id": "faE1oJQYvw_T"
      }
    },
    {
      "cell_type": "code",
      "source": [
        "plt.figure(figsize=(15,5))\n",
        "sns.lineplot(data['avg_training_score'], data['is_promoted'], palette = 'winter')"
      ],
      "metadata": {
        "id": "hW1hxvWAvsx1"
      },
      "execution_count": null,
      "outputs": []
    },
    {
      "cell_type": "markdown",
      "source": [
        "#What is the Impact of Gender in Promotions?"
      ],
      "metadata": {
        "id": "qMiuWg7cv7vC"
      }
    },
    {
      "cell_type": "code",
      "source": [
        "plt.figure(figsize=(15,5))\n",
        "sns.barplot(data['gender'], data['is_promoted'])"
      ],
      "metadata": {
        "id": "YmotpuQev3GM"
      },
      "execution_count": null,
      "outputs": []
    },
    {
      "cell_type": "markdown",
      "source": [
        "# What is the Probability of Freshers getting Promoted?"
      ],
      "metadata": {
        "id": "tYEZKiOswGGy"
      }
    },
    {
      "cell_type": "code",
      "source": [
        "plt.figure(figsize=(15,5))\n",
        "sns.lineplot(data['length_of_service'], data['is_promoted'], palette = 'winter')"
      ],
      "metadata": {
        "id": "vTHB8eExv3S_"
      },
      "execution_count": null,
      "outputs": []
    },
    {
      "cell_type": "markdown",
      "source": [
        "# MULTIVARIATE ANALYSIS"
      ],
      "metadata": {
        "id": "zdJO5SRgwXuh"
      }
    },
    {
      "cell_type": "code",
      "source": [
        "sns.heatmap(data.corr())"
      ],
      "metadata": {
        "id": "2guQHANswUWM"
      },
      "execution_count": null,
      "outputs": []
    },
    {
      "cell_type": "markdown",
      "source": [
        "# DECISION TREE ALGORITHM"
      ],
      "metadata": {
        "id": "wZqAP5Uawh8w"
      }
    },
    {
      "cell_type": "code",
      "source": [
        "import sklearn\n",
        "from sklearn.model_selection  import train_test_split\n",
        "from sklearn.tree import DecisionTreeClassifier\n",
        "from sklearn.metrics import accuracy_score\n",
        "from sklearn import tree"
      ],
      "metadata": {
        "id": "yu0HEjOjwbUw"
      },
      "execution_count": null,
      "outputs": []
    },
    {
      "cell_type": "code",
      "source": [
        "#Seperating the target variable\n",
        "X=data[['no_of_trainings', 'length_of_service', 'avg_training_score', 'is_promoted']].values\n",
        "Y=data['department']\n",
        "#Spliting Dataset into Test and Train\n",
        "X_train, X_test, y_train, y_test = train_test_split(X, Y, test_size=0.3, random_state=100 )\n",
        "#Function to perform training and Entropy\n",
        "clf_entropy=DecisionTreeClassifier(criterion=\"entropy\",random_state=100,max_depth=3,min_samples_leaf=5)\n",
        "clf_entropy.fit(X_train,y_train)"
      ],
      "metadata": {
        "id": "oMc1cCHUwnBd"
      },
      "execution_count": null,
      "outputs": []
    },
    {
      "cell_type": "code",
      "source": [
        "#Function to predict\n",
        "y_pred_en=clf_entropy.predict(X_test)\n",
        "print(y_pred_en)"
      ],
      "metadata": {
        "id": "GN2xD_Y2w1Cu"
      },
      "execution_count": null,
      "outputs": []
    },
    {
      "cell_type": "code",
      "source": [
        "#Checking accuracy\n",
        "print(\"Acurracy is = \",accuracy_score(y_test,y_pred_en)*100)"
      ],
      "metadata": {
        "id": "czXEI5jXw5ju"
      },
      "execution_count": null,
      "outputs": []
    }
  ]
}